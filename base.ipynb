{
 "cells": [
  {
   "cell_type": "markdown",
   "id": "eac412ea",
   "metadata": {},
   "source": [
    "# Mathematical Basis"
   ]
  },
  {
   "cell_type": "markdown",
   "id": "4bce512b",
   "metadata": {},
   "source": [
    "## Basic Concept"
   ]
  },
  {
   "cell_type": "markdown",
   "id": "d502886d",
   "metadata": {},
   "source": [
    "### Special Graphs"
   ]
  },
  {
   "cell_type": "markdown",
   "id": "c2ffa3a1",
   "metadata": {},
   "source": [
    "#### Connected Graph"
   ]
  },
  {
   "cell_type": "markdown",
   "id": "f8014661",
   "metadata": {},
   "source": [
    "## Spectral Graph Theory"
   ]
  },
  {
   "cell_type": "markdown",
   "id": "9c58771b",
   "metadata": {},
   "source": [
    "### Laplacian Matrix"
   ]
  },
  {
   "cell_type": "markdown",
   "id": "a97d7196",
   "metadata": {},
   "source": [
    "For Undirected Graphs:\n",
    "$$\\boldsymbol{L} = \\boldsymbol{D} - \\boldsymbol{W}$$\n",
    "where $\\boldsymbol{D}$ is Degree Matrix, and $\\boldsymbol{W}$ is Adjacency Matrix."
   ]
  },
  {
   "cell_type": "markdown",
   "id": "3a33c88b",
   "metadata": {},
   "source": [
    "#### Properties"
   ]
  },
  {
   "cell_type": "markdown",
   "id": "d60b0eec",
   "metadata": {},
   "source": [
    "(1) $\\forall \\boldsymbol{f} \\in \\mathbb{R}$:\n",
    "$$\\boldsymbol{f}^\\top \\boldsymbol{L}\\boldsymbol{f} = \\frac{1}{2}\\sum_{i=1}^{n}\\sum_{j=1}^{n}w_{ij}(f_i-f_j)^2$$"
   ]
  },
  {
   "cell_type": "markdown",
   "id": "a3e76a30",
   "metadata": {},
   "source": [
    "Prove:\n",
    "$$\n",
    "\\begin{aligned}\n",
    "\\boldsymbol{f}^\\top \\boldsymbol{L}\\boldsymbol{f} &= \\boldsymbol{f}^\\top \\boldsymbol{D}\\boldsymbol{f} -  \\boldsymbol{f}^\\top \\boldsymbol{W}\\boldsymbol{f}\\\\\n",
    "&= \\sum_{i=1}^{n}d_{ii}f_i^2 - \\sum_{i=1}^{n}\\sum_{j=1}^{n}w_{ij}f_if_j\\\\\n",
    "&= \\frac{1}{2}(2\\sum_{i=1}^{n}d_{ii}f_i^2 - 2\\sum_{i=1}^{n}\\sum_{j=1}^{n}w_{ij}f_if_j)\\\\\n",
    "&= \\frac{1}{2}(\\sum_{i=1}^{n}d_{ii}f_i^2 - 2\\sum_{i=1}^{n}\\sum_{j=1}^{n}w_{ij}f_if_j + \\sum_{j=1}^{n}d_{jj}f_j^2) \\\\\n",
    "&= \\frac{1}{2}(\\sum_{i=1}^{n}\\sum_{j=1}^{n}w_{ij}f_i^2 - 2\\sum_{i=1}^{n}\\sum_{j=1}^{n}w_{ij}f_if_j + \\sum_{i=1}^{n}\\sum_{j=1}^{n}w_{ij}f_j^2) \\\\\n",
    "&= \\frac{1}{2}\\sum_{i=1}^{n}\\sum_{j=1}^{n}w_{ij}(f_i-f_j)^2\n",
    "\\end{aligned}\n",
    "$$"
   ]
  },
  {
   "cell_type": "markdown",
   "id": "a71f134b",
   "metadata": {},
   "source": [
    "(2) Laplacian Matrix is Positive Semi-Definite"
   ]
  },
  {
   "cell_type": "markdown",
   "id": "c6097699",
   "metadata": {},
   "source": [
    "Prove:\n",
    "$$\n",
    "\\because \\forall \\boldsymbol{f} \\neq \\boldsymbol{0}: \\boldsymbol{f}^\\top \\boldsymbol{L}\\boldsymbol{f} \\geq 0 \\\\\n",
    "\\therefore Q.E.D.\n",
    "$$"
   ]
  },
  {
   "cell_type": "markdown",
   "id": "978b064f",
   "metadata": {},
   "source": [
    "(3) The minimal eigenvalue of a Laplacian matrix $\\boldsymbol{L}_{n\\times n}$ is 0, and the corresponding eigenvector is the constant vector \n",
    "$\\boldsymbol{1}_{n\\times 1}$, with all components (分量) being 1."
   ]
  },
  {
   "cell_type": "markdown",
   "id": "e3ed82f6",
   "metadata": {},
   "source": [
    "Prove:\n",
    "$$\n",
    "\\begin{aligned}\n",
    "|\\boldsymbol{L}-0\\cdot \\boldsymbol{I}| &= |\\boldsymbol{L}| = |\\boldsymbol{D}-\\boldsymbol{W}| \\\\\n",
    "&= \\begin{vmatrix} \\sum_{j=1}^{n}w_{1j}-w_{11} & -w_{12} & \\cdots & -w_{1n} \\\\ -w_{21} & \\sum_{j=1}^{n}w_{2j}-w_{22} & \\cdots & -w_{2n} \\\\ \\vdots & \\vdots & \\ddots & \\vdots \\\\ -w_{n1} & -w_{n2} & \\cdots & \\sum_{j=1}^{n}w_{nj}-w_{nn} \\end{vmatrix}\\\\\n",
    "&= \\begin{vmatrix} \\sum_{j=1,j\\neq1}^{n}w_{1j} & -w_{12} & \\cdots & -w_{1n} \\\\ -w_{21} & \\sum_{j=1,j\\neq2}^{n}w_{2j} & \\cdots & -w_{2n} \\\\ \\vdots & \\vdots & \\ddots & \\vdots \\\\ -w_{n1} & -w_{n2} & \\cdots & \\sum_{j=1,j\\neq n}^{n}w_{nj} \\end{vmatrix}\\\\\n",
    "& \\textbf{Sequentially add the 2nd to the n-th columns to the 1st column:}\\\\\n",
    "&= \\begin{vmatrix} 0 & -w_{12} & \\cdots & -w_{1n} \\\\ 0 & \\sum_{j=1,j\\neq2}^{n}w_{2j} & \\cdots & -w_{2n} \\\\ \\vdots & \\vdots & \\ddots & \\vdots \\\\ 0 & -w_{n2} & \\cdots & \\sum_{j=1,j\\neq n}^{n}w_{nj} \\end{vmatrix}\\\\\n",
    "&= 0\n",
    "\\end{aligned}\n",
    "$$\n",
    "Complemented with the fact that Laplacian Matrix is positive semi-definite, therefore, 0 is its smallest eigenvalue. Furthermore, if $\\boldsymbol{f} = \\boldsymbol{1}_{n\\times1}$, then:\n",
    "$$\n",
    "\\boldsymbol{Lf} = \\boldsymbol{L1} = (\\boldsymbol{D}-\\boldsymbol{W})\\boldsymbol{1}=\\begin{bmatrix}d_{11}\\\\ d_{22}\\\\ \\vdots \\\\ b_{nn}\\end{bmatrix} - \\begin{bmatrix} \\sum_{j=1}^{n}w_{1j} \\\\ \\sum_{j=1}^{n}w_{2j} \\\\ \\vdots \\\\ \\sum_{j=1}^{n}w_{nj} \\end{bmatrix} = \\mathbf{0}\n",
    "$$\n",
    "$$Q.E.D.$$"
   ]
  },
  {
   "cell_type": "markdown",
   "id": "804a6d32",
   "metadata": {},
   "source": [
    "(4) An $n \\times n$ Laplacian Matrix has $n$ non-negative real eigenvalues, which satisfy the following condition:\n",
    "$$0=\\lambda_1 \\leq \\lambda_2 \\leq \\cdots \\leq \\lambda_n$$"
   ]
  },
  {
   "cell_type": "markdown",
   "id": "d77c27f4",
   "metadata": {},
   "source": [
    "#### Normalisation"
   ]
  },
  {
   "cell_type": "markdown",
   "id": "95ad7992",
   "metadata": {},
   "source": [
    "#### Application: Laplacian Eigenmap (LE) for Manifold Learning"
   ]
  },
  {
   "cell_type": "markdown",
   "id": "a6e10d89",
   "metadata": {},
   "source": [
    "# Basic Algorithms"
   ]
  },
  {
   "cell_type": "markdown",
   "id": "6bf9d56e",
   "metadata": {},
   "source": [
    "## Traversal"
   ]
  },
  {
   "cell_type": "markdown",
   "id": "0df8f4be",
   "metadata": {},
   "source": [
    "### Depth-First Search (DFS) 深度优先搜索"
   ]
  },
  {
   "cell_type": "markdown",
   "id": "7e52817c",
   "metadata": {},
   "source": [
    "深度优先搜索（DFS, Depth-First Search）是一种用于遍历或搜索树或图的算法。在图论中，它用于系统地访问图中的所有顶点(Vertex)。DFS探索尽可能深的分支，直到达到末端，然后回溯以探索其他分支。"
   ]
  },
  {
   "cell_type": "markdown",
   "id": "6bb423da",
   "metadata": {},
   "source": [
    "(1) Pseudo-code"
   ]
  },
  {
   "cell_type": "code",
   "execution_count": null,
   "id": "994edb81",
   "metadata": {},
   "outputs": [],
   "source": [
    "DFS(v):\n",
    "    标记 v 为已访问\n",
    "    对于 v 的每个邻接点 w:\n",
    "        如果 w 未被访问:\n",
    "            递归地调用 DFS(w)\n",
    "        (否则访问下一邻接点)"
   ]
  },
  {
   "cell_type": "markdown",
   "id": "b9759a61",
   "metadata": {},
   "source": [
    "(2) Implementation with Python"
   ]
  },
  {
   "cell_type": "code",
   "execution_count": 12,
   "id": "10a960a1",
   "metadata": {},
   "outputs": [],
   "source": [
    "def dfs(graph, v, visited=None, path=None):       # v表示开始的节点，visited用于存储已搜索的节点\n",
    "    if visited is None:                           # 初始化\n",
    "        visited = set()\n",
    "    if path is None:\n",
    "        path = []\n",
    "    \n",
    "    visited.add(v)                                # 将当前节点标记为已访问 (set之后必须加.add())\n",
    "    path.append(v)                                # 记录访问顺序 (list之后必须加.append())\n",
    "    for w in graph[v]:\n",
    "        if w not in visited:\n",
    "            dfs(graph, w, visited, path)\n",
    "    return path"
   ]
  },
  {
   "cell_type": "code",
   "execution_count": 13,
   "id": "b0ce368f",
   "metadata": {},
   "outputs": [
    {
     "name": "stdout",
     "output_type": "stream",
     "text": [
      "['A', 'B', 'C', 'D']\n"
     ]
    }
   ],
   "source": [
    "graph = {\n",
    "    'A': ['B', 'C'],\n",
    "    'B': ['A', 'C', 'D'],\n",
    "    'C': ['A', 'D'],\n",
    "    'D': ['C']\n",
    "}\n",
    "visited = dfs(graph, 'A')\n",
    "print(visited)"
   ]
  },
  {
   "cell_type": "markdown",
   "id": "e926276e",
   "metadata": {},
   "source": [
    "找出有向无环图（DAG）中从节点 0 到最后一个节点的所有路径。"
   ]
  },
  {
   "cell_type": "code",
   "execution_count": null,
   "id": "021993fe",
   "metadata": {},
   "outputs": [],
   "source": [
    "def allPathsSourceTarget(graph: List[List[int]]) -> List[List[int]]:\n",
    "    def dfs(v, visited, path, paths): \n",
    "        if v == len(graph) - 1:  # 检查是否到达目标节点\n",
    "            paths.append(path)\n",
    "            return\n",
    "\n",
    "        visited.add(v)\n",
    "        for w in graph[v]:\n",
    "            if w not in visited:\n",
    "                # 创建访问状态和路径的副本\n",
    "                dfs(w, visited.copy(), path + [w], paths)\n",
    "\n",
    "    paths = []\n",
    "    dfs(0, set(), [0], paths)\n",
    "    return paths"
   ]
  },
  {
   "cell_type": "markdown",
   "id": "c8104630",
   "metadata": {},
   "source": [
    "### Breadth-First Search (BFS) 广度优先搜索"
   ]
  },
  {
   "cell_type": "markdown",
   "id": "04e068dc",
   "metadata": {},
   "source": [
    "(1) Pseudo-code"
   ]
  },
  {
   "cell_type": "code",
   "execution_count": null,
   "id": "8b140f37",
   "metadata": {},
   "outputs": [],
   "source": [
    "BFS(graph, startVertex):\n",
    "    创建一个队列 Q\n",
    "    将 startVertex 加入到 Q\n",
    "    标记 startVertex 为已访问\n",
    "\n",
    "    while Q 不为空:\n",
    "        v = Q 中取出一个顶点\n",
    "        访问 v\n",
    "\n",
    "        for v 的每个邻接点 w:\n",
    "            如果 w 未被访问:\n",
    "                标记 w 为已访问\n",
    "                将 w 加入到 Q"
   ]
  },
  {
   "cell_type": "markdown",
   "id": "c5f9c826",
   "metadata": {},
   "source": [
    "(2) Implementation With Python"
   ]
  },
  {
   "cell_type": "code",
   "execution_count": 14,
   "id": "09eabde9",
   "metadata": {},
   "outputs": [],
   "source": [
    "from collections import deque  # 双端队列，支持从两端以近似O(1)的时间复杂度添加或移除元素。deque在BFS中用作队列来存储待访问的顶点。\n",
    "\n",
    "def bfs(graph, v):\n",
    "    visited = set()\n",
    "    queue = deque([v])                    # 创建一个deque队列，并将起始顶点v作为第1个元素加入队列。\n",
    "\n",
    "    while queue:                          # 该循环会一直执行，直到队列变为空，表示只要还有顶点等待被访问，就继续执行循环体。\n",
    "        v = queue.popleft()               # 从队列中弹出一个顶点，符合先进先出（FIFO）\n",
    "        visited.add(v)\n",
    "        for w in graph[v]:\n",
    "            if w not in visited:\n",
    "                visited.add(w)\n",
    "                queue.append(w)\n",
    "    return visited"
   ]
  },
  {
   "cell_type": "code",
   "execution_count": 15,
   "id": "f863548f",
   "metadata": {},
   "outputs": [
    {
     "name": "stdout",
     "output_type": "stream",
     "text": [
      "{'A', 'D', 'E', 'C', 'B', 'F'}\n"
     ]
    }
   ],
   "source": [
    "graph = {\n",
    "    'A': ['B', 'C'],\n",
    "    'B': ['A', 'D', 'E'],\n",
    "    'C': ['A', 'F'],\n",
    "    'D': ['B'],\n",
    "    'E': ['B', 'F'],\n",
    "    'F': ['C', 'E']\n",
    "}\n",
    "print(bfs(graph, 'A'))"
   ]
  },
  {
   "cell_type": "markdown",
   "id": "e082154d",
   "metadata": {},
   "source": [
    "## Shortest Path"
   ]
  },
  {
   "cell_type": "markdown",
   "id": "5db40481",
   "metadata": {},
   "source": [
    "### Dijkstra Algorithm"
   ]
  },
  {
   "cell_type": "markdown",
   "id": "f0cdf9f1",
   "metadata": {},
   "source": [
    "Dijkstra 算法用于在加权图中找到从单个源点到所有其他顶点的最短路径。"
   ]
  },
  {
   "cell_type": "markdown",
   "id": "222ba941",
   "metadata": {},
   "source": [
    "(1) Method 1: Classic"
   ]
  },
  {
   "cell_type": "code",
   "execution_count": 4,
   "id": "cd36abf7",
   "metadata": {},
   "outputs": [],
   "source": [
    "def dijkstra_classic(graph, start):\n",
    "    distances = {vertex: float('infinity') for vertex in graph}    # 初始化距离字典，所有顶点的距离设为无穷大\n",
    "    distances[start] = 0                                           # 起始顶点到自身的距离设为0\n",
    "    visited = set()                                                # 用来记录已经处理过的顶点\n",
    "    \n",
    "    for _ in range(len(graph)):                                    # 处理所有顶点\n",
    "        current_vertex = min((vertex for vertex in distances if vertex not in visited),\n",
    "                             key=lambda vertex: distances[vertex]) # 在未处理的顶点中找到距离最小的顶点\n",
    "        visited.add(current_vertex)                                # 标记这个顶点为已处理\n",
    "        \n",
    "        for neighbor, weight in graph[current_vertex].items():     # 对当前顶点的每个邻居进行处理\n",
    "            if neighbor not in visited:\n",
    "                new_distance = distances[current_vertex] + weight\n",
    "                if new_distance < distances[neighbor]:             # 如果新计算的距离更短，则更新距离\n",
    "                    distances[neighbor] = new_distance\n",
    "\n",
    "    return distances"
   ]
  },
  {
   "cell_type": "markdown",
   "id": "0b118dd1",
   "metadata": {},
   "source": [
    "(2) Method 2: heapq自动寻找最小堆"
   ]
  },
  {
   "cell_type": "code",
   "execution_count": 2,
   "id": "905a316a",
   "metadata": {},
   "outputs": [],
   "source": [
    "import heapq\n",
    "\n",
    "def dijkstra(graph, start):\n",
    "    distances = {vertex: float('infinity') for vertex in graph}\n",
    "    distances[start] = 0                                                 # 设置起始点的距离为0\n",
    "    priority_queue = [(0, start)]                                        # 创建优先队列，并将起始顶点加入队列\n",
    "\n",
    "    while priority_queue:                                                # 当优先队列不为空时循环\n",
    "        current_distance, current_vertex = heapq.heappop(priority_queue) # 从优先队列中取出当前距离最短的顶点\n",
    "\n",
    "        for neighbor, weight in graph[current_vertex].items():\n",
    "            distance = current_distance + weight\n",
    "\n",
    "            if distance < distances[neighbor]:\n",
    "                distances[neighbor] = distance\n",
    "                heapq.heappush(priority_queue, (distance, neighbor))\n",
    "\n",
    "    return distances"
   ]
  },
  {
   "cell_type": "code",
   "execution_count": 3,
   "id": "b8cc95fb",
   "metadata": {},
   "outputs": [
    {
     "name": "stdout",
     "output_type": "stream",
     "text": [
      "{'A': 0, 'B': 1, 'C': 3, 'D': 4}\n"
     ]
    }
   ],
   "source": [
    "graph = {\n",
    "    'A': {'B': 1, 'C': 4},\n",
    "    'B': {'A': 1, 'C': 2, 'D': 5},\n",
    "    'C': {'A': 4, 'B': 2, 'D': 1},\n",
    "    'D': {'B': 5, 'C': 1}\n",
    "}\n",
    "print(dijkstra(graph, 'A'))"
   ]
  },
  {
   "cell_type": "code",
   "execution_count": 8,
   "id": "d7077b4f",
   "metadata": {},
   "outputs": [
    {
     "data": {
      "text/plain": [
       "{'A': 0, 'B': 1, 'C': 3, 'D': 4}"
      ]
     },
     "execution_count": 8,
     "metadata": {},
     "output_type": "execute_result"
    }
   ],
   "source": [
    "dijkstra_classic(graph, 'A')"
   ]
  },
  {
   "cell_type": "markdown",
   "id": "d33ffed3",
   "metadata": {},
   "source": [
    "## Sorting"
   ]
  },
  {
   "cell_type": "markdown",
   "id": "bfec16f1",
   "metadata": {},
   "source": [
    "### Topological Sorting"
   ]
  },
  {
   "cell_type": "markdown",
   "id": "3379d76f",
   "metadata": {},
   "source": [
    "拓扑排序：对有向无环图（Directed Acyclic Graph, DAG）的顶点进行线性排序。假设有一个DAG：$G = (V,E)$，拓扑排序是$V$的一个排列$v_1, v_2, ... , v_n$，使得$G$的每一条边$(v_i, v_j)\\in E$，且$v_i$始终位于$v_j$之前，换言之：\n",
    "$$\\forall (v_i,v_j) \\in E: i<j$$"
   ]
  },
  {
   "cell_type": "markdown",
   "id": "58aa5779",
   "metadata": {},
   "source": [
    "#### Greedy Algorithm-based"
   ]
  },
  {
   "cell_type": "code",
   "execution_count": 17,
   "id": "5d24d8d4",
   "metadata": {},
   "outputs": [],
   "source": [
    "def topological_sort_greedy(graph):\n",
    "    in_degree = [0] * len(graph)          # 创建一个列表来存储每个顶点的入度\n",
    "    for v in graph:\n",
    "        for neighbour in graph[v]:\n",
    "            in_degree[neighbour] += 1     # 计算每个顶点的入度\n",
    "\n",
    "    queue = [i for i in range(len(graph)) if in_degree[i] == 0]     # 找到所有入度为0的顶点，加入队列\n",
    "    top_order = []                        # 初始化储拓扑排序列表\n",
    "\n",
    "    while queue:                          # 从队列中移除一个顶点\n",
    "        v = queue.pop(0)                  # 将该顶点添加到拓扑排序列表\n",
    "        top_order.append(v)               \n",
    "        for neighbour in graph[v]:        \n",
    "            in_degree[neighbour] -= 1     # 减少相邻顶点的入度\n",
    "            if in_degree[neighbour] == 0: # 如果邻居顶点的入度变为0，将其加入队列\n",
    "                queue.append(neighbour)\n",
    "\n",
    "    return top_order"
   ]
  },
  {
   "cell_type": "markdown",
   "id": "440f650c",
   "metadata": {},
   "source": [
    "#### DFS-based"
   ]
  },
  {
   "cell_type": "code",
   "execution_count": 18,
   "id": "8c93b66b",
   "metadata": {},
   "outputs": [],
   "source": [
    "def topological_sort_dfs(graph):\n",
    "    def dfs(v):\n",
    "        visited[v] = True                 # 标记当前节点为已访问\n",
    "        for neighbour in graph[v]:        # 对所有未访问的邻居递归调用DFS\n",
    "            if not visited[neighbour]:\n",
    "                dfs(neighbour)\n",
    "        stack.append(v)                   # 将节点添加到栈中\n",
    "\n",
    "    stack = []                            # 创建一个用于存储拓扑排序的栈\n",
    "    visited = [False] * len(graph)\n",
    "    for v in range(len(graph)):\n",
    "        if not visited[v]:\n",
    "            dfs(v)\n",
    "\n",
    "    return stack[::-1]"
   ]
  },
  {
   "cell_type": "markdown",
   "id": "2c7b1d23",
   "metadata": {},
   "source": [
    "#### All Sorts"
   ]
  },
  {
   "cell_type": "code",
   "execution_count": 21,
   "id": "33f8b663",
   "metadata": {},
   "outputs": [],
   "source": [
    "def all_topological_sorts(graph):\n",
    "    def dfs():\n",
    "        nonlocal graph, in_degree, path, visited\n",
    "\n",
    "        if len(path) == len(graph):              # 如果找到了一个可能的排序\n",
    "            all_sorts.append(path.copy())\n",
    "            return\n",
    "\n",
    "        for vertex in range(len(graph)):         # 选择当前入度为0且未访问的顶点\n",
    "            if in_degree[vertex] == 0 and not visited[vertex]:\n",
    "                visited[vertex] = True           # 添加到当前路径\n",
    "                path.append(vertex)\n",
    "   \n",
    "                for neighbor in graph[vertex]:   # 更新相邻顶点的入度\n",
    "                    in_degree[neighbor] -= 1\n",
    "                \n",
    "                dfs()                            # 递归继续处理\n",
    "\n",
    "                visited[vertex] = False          # 回溯，恢复状态\n",
    "                path.pop()\n",
    "                for neighbor in graph[vertex]:\n",
    "                    in_degree[neighbor] += 1\n",
    "\n",
    "    in_degree = [0] * len(graph)\n",
    "    for vertex in graph:\n",
    "        for neighbor in graph[vertex]:\n",
    "            in_degree[neighbor] += 1\n",
    "\n",
    "    visited = [False] * len(graph)\n",
    "    path = []\n",
    "    all_sorts = []\n",
    "\n",
    "    dfs()\n",
    "\n",
    "    return all_sorts"
   ]
  },
  {
   "cell_type": "code",
   "execution_count": 19,
   "id": "ef45ca4d",
   "metadata": {},
   "outputs": [],
   "source": [
    "graph = {\n",
    "    0: [1, 2],\n",
    "    1: [3],\n",
    "    2: [3],\n",
    "    3: []\n",
    "}"
   ]
  },
  {
   "cell_type": "code",
   "execution_count": 22,
   "id": "95c9d217",
   "metadata": {},
   "outputs": [
    {
     "name": "stdout",
     "output_type": "stream",
     "text": [
      "DFS-based Topological Sort: [0, 2, 1, 3]\n",
      "Greedy-based Topological Sort: [0, 1, 2, 3]\n",
      "All topological Sorts: [[0, 1, 2, 3], [0, 2, 1, 3]]\n"
     ]
    }
   ],
   "source": [
    "print(\"DFS-based Topological Sort:\", topological_sort_dfs(graph))\n",
    "print(\"Greedy-based Topological Sort:\", topological_sort_greedy(graph))\n",
    "print(\"All topological Sorts:\", all_topological_sorts(graph))"
   ]
  },
  {
   "cell_type": "markdown",
   "id": "6b06af5e",
   "metadata": {},
   "source": [
    "## Other Algorithms"
   ]
  },
  {
   "cell_type": "markdown",
   "id": "da0a7cb8",
   "metadata": {},
   "source": [
    "贝尔曼-福特算法（Bellman-Ford）：也用于找到最短路径，能处理带有负权重边的图。\n",
    "\n",
    "弗洛伊德算法（Floyd-Warshall）：用于找到所有顶点对之间的最短路径。\n",
    "\n",
    "A*搜索算法：用于图和网格中的最短路径搜索，结合了BFS和Dijkstra的特点。\n",
    "\n",
    "克鲁斯克尔算法（Kruskal's）：用于寻找图的最小生成树。\n",
    "\n",
    "普里姆算法（Prim's）：另一种用于寻找最小生成树的算法。\n",
    "\n",
    "强连通分量算法：如科萨拉朱算法（Kosaraju's algorithm）和塔拉扬算法（Tarjan's algorithm），用于识别有向图中的强连通分量。\n",
    "\n",
    "网络流算法：如Ford-Fulkerson算法和Edmonds-Karp算法，用于计算网络流量的最大流。\n",
    "\n",
    "图着色问题：如贪婪着色算法，用于给图的顶点着色，使得相邻的顶点颜色不同。"
   ]
  },
  {
   "cell_type": "markdown",
   "id": "e4c92c16",
   "metadata": {},
   "source": [
    "## Comprehensive Applications"
   ]
  },
  {
   "cell_type": "markdown",
   "id": "2f739d7c",
   "metadata": {},
   "source": [
    "### 回路问题（寻找不在回路中的安全节点）"
   ]
  },
  {
   "cell_type": "markdown",
   "id": "53988291",
   "metadata": {},
   "source": [
    "（1) Method 1: DFS"
   ]
  },
  {
   "cell_type": "code",
   "execution_count": 14,
   "id": "52cb4c6e",
   "metadata": {},
   "outputs": [],
   "source": [
    "from typing import List\n",
    "def eventualSafeNodes(graph: List[List[int]]) -> List[int]:\n",
    "    def dfs(node):\n",
    "        '''0: Not visited; 1: Being visited; 2: Safe'''\n",
    "        if visited[node] != 0:                                # 如果节点已经被访问过，根据其状态直接返回\n",
    "            return visited[node] == 2\n",
    "        visited[node] = 1                                     # 标记当前节点为正在访问\n",
    "        \n",
    "        for next_node in graph[node]:\n",
    "            if visited[next_node] == 1 or not dfs(next_node): # 如果下一个节点正在访问或不安全，则当前节点不安全\n",
    "                return False\n",
    "            \n",
    "        visited[node] = 2\n",
    "        return True\n",
    "\n",
    "    safe_nodes = []\n",
    "    visited = [0] * len(graph)\n",
    "\n",
    "    for i in range(len(graph)):\n",
    "        if dfs(i):\n",
    "            safe_nodes.append(i)\n",
    "\n",
    "    return safe_nodes"
   ]
  },
  {
   "cell_type": "code",
   "execution_count": 15,
   "id": "8cd2f25c",
   "metadata": {},
   "outputs": [
    {
     "data": {
      "text/plain": [
       "[2, 4, 5, 6]"
      ]
     },
     "execution_count": 15,
     "metadata": {},
     "output_type": "execute_result"
    }
   ],
   "source": [
    "safe_node_example = [[1, 2], [2, 3], [5], [0], [5], [], []]\n",
    "eventualSafeNodes(safe_node_example)"
   ]
  },
  {
   "cell_type": "markdown",
   "id": "d44e8a65",
   "metadata": {},
   "source": [
    "# Graph and Machine Learning"
   ]
  },
  {
   "cell_type": "markdown",
   "id": "f2e790ae",
   "metadata": {},
   "source": [
    "## Restricted Boltzmann Machine (BRM)"
   ]
  },
  {
   "cell_type": "code",
   "execution_count": null,
   "id": "7bdfd76b",
   "metadata": {},
   "outputs": [],
   "source": []
  },
  {
   "cell_type": "markdown",
   "id": "4edd642b",
   "metadata": {},
   "source": [
    "# References"
   ]
  }
 ],
 "metadata": {
  "kernelspec": {
   "display_name": "Python 3 (ipykernel)",
   "language": "python",
   "name": "python3"
  },
  "language_info": {
   "codemirror_mode": {
    "name": "ipython",
    "version": 3
   },
   "file_extension": ".py",
   "mimetype": "text/x-python",
   "name": "python",
   "nbconvert_exporter": "python",
   "pygments_lexer": "ipython3",
   "version": "3.9.13"
  },
  "toc": {
   "base_numbering": 1,
   "nav_menu": {},
   "number_sections": true,
   "sideBar": true,
   "skip_h1_title": false,
   "title_cell": "Table of Contents",
   "title_sidebar": "Contents",
   "toc_cell": false,
   "toc_position": {
    "height": "calc(100% - 180px)",
    "left": "10px",
    "top": "150px",
    "width": "192.391px"
   },
   "toc_section_display": true,
   "toc_window_display": true
  }
 },
 "nbformat": 4,
 "nbformat_minor": 5
}
