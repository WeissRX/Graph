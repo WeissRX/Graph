{
 "cells": [
  {
   "cell_type": "markdown",
   "id": "eac412ea",
   "metadata": {},
   "source": [
    "# Basic Algorithms"
   ]
  },
  {
   "cell_type": "markdown",
   "id": "6bf9d56e",
   "metadata": {},
   "source": [
    "## CRUD"
   ]
  },
  {
   "cell_type": "markdown",
   "id": "ce5fe18b",
   "metadata": {},
   "source": [
    "### Create "
   ]
  },
  {
   "cell_type": "markdown",
   "id": "69e18fb3",
   "metadata": {},
   "source": [
    "### Read "
   ]
  },
  {
   "cell_type": "markdown",
   "id": "0df8f4be",
   "metadata": {},
   "source": [
    "#### Depth-First Search (DFS) 深度优先搜索"
   ]
  },
  {
   "cell_type": "markdown",
   "id": "7e52817c",
   "metadata": {},
   "source": [
    "深度优先搜索（DFS, Depth-First Search）是一种用于遍历或搜索树或图的算法。在图论中，它用于系统地访问图中的所有顶点(Vertex)。DFS探索尽可能深的分支，直到达到末端，然后回溯以探索其他分支。"
   ]
  },
  {
   "cell_type": "markdown",
   "id": "6bb423da",
   "metadata": {},
   "source": [
    "(1) Pseudo-code"
   ]
  },
  {
   "cell_type": "code",
   "execution_count": null,
   "id": "994edb81",
   "metadata": {},
   "outputs": [],
   "source": [
    "DFS(v):\n",
    "    标记 v 为已访问\n",
    "    对于 v 的每个邻接点 w:\n",
    "        如果 w 未被访问:\n",
    "            递归地调用 DFS(w)\n",
    "        (否则访问下一邻接点)"
   ]
  },
  {
   "cell_type": "markdown",
   "id": "b9759a61",
   "metadata": {},
   "source": [
    "(2) Implementation with Python"
   ]
  },
  {
   "cell_type": "code",
   "execution_count": 12,
   "id": "10a960a1",
   "metadata": {},
   "outputs": [],
   "source": [
    "def dfs(graph, v, visited=None, path=None):       # v表示开始的节点，visited用于存储已搜索的节点\n",
    "    if visited is None:                           # 初始化\n",
    "        visited = set()\n",
    "    if path is None:\n",
    "        path = []\n",
    "    \n",
    "    visited.add(v)                                # 将当前节点标记为已访问 (set之后必须加.add())\n",
    "    path.append(v)                                # 记录访问顺序 (list之后必须加.append())\n",
    "    for w in graph[v]:\n",
    "        if w not in visited:\n",
    "            dfs(graph, w, visited, path)\n",
    "    return path"
   ]
  },
  {
   "cell_type": "code",
   "execution_count": 13,
   "id": "b0ce368f",
   "metadata": {},
   "outputs": [
    {
     "name": "stdout",
     "output_type": "stream",
     "text": [
      "['A', 'B', 'C', 'D']\n"
     ]
    }
   ],
   "source": [
    "graph = {\n",
    "    'A': ['B', 'C'],\n",
    "    'B': ['A', 'C', 'D'],\n",
    "    'C': ['A', 'D'],\n",
    "    'D': ['C']\n",
    "}\n",
    "visited = dfs(graph, 'A')\n",
    "print(visited)"
   ]
  },
  {
   "cell_type": "markdown",
   "id": "c8104630",
   "metadata": {},
   "source": [
    "#### Breadth-First Search (BFS) 广度优先搜索"
   ]
  },
  {
   "cell_type": "markdown",
   "id": "04e068dc",
   "metadata": {},
   "source": [
    "(1) Pseudo-code"
   ]
  },
  {
   "cell_type": "code",
   "execution_count": null,
   "id": "8b140f37",
   "metadata": {},
   "outputs": [],
   "source": [
    "BFS(graph, startVertex):\n",
    "    创建一个队列 Q\n",
    "    将 startVertex 加入到 Q\n",
    "    标记 startVertex 为已访问\n",
    "\n",
    "    while Q 不为空:\n",
    "        v = Q 中取出一个顶点\n",
    "        访问 v\n",
    "\n",
    "        for v 的每个邻接点 w:\n",
    "            如果 w 未被访问:\n",
    "                标记 w 为已访问\n",
    "                将 w 加入到 Q"
   ]
  },
  {
   "cell_type": "markdown",
   "id": "c5f9c826",
   "metadata": {},
   "source": [
    "(2) Implementation With Python"
   ]
  },
  {
   "cell_type": "code",
   "execution_count": 14,
   "id": "09eabde9",
   "metadata": {},
   "outputs": [],
   "source": [
    "from collections import deque  # 双端队列，支持从两端以近似O(1)的时间复杂度添加或移除元素。deque在BFS中用作队列来存储待访问的顶点。\n",
    "\n",
    "def bfs(graph, v):\n",
    "    visited = set()\n",
    "    queue = deque([v])                    # 创建一个deque队列，并将起始顶点v作为第1个元素加入队列。\n",
    "\n",
    "    while queue:                          # 该循环会一直执行，直到队列变为空，表示只要还有顶点等待被访问，就继续执行循环体。\n",
    "        v = queue.popleft()               # 从队列中弹出一个顶点，符合先进先出（FIFO）\n",
    "        visited.add(v)\n",
    "        for w in graph[v]:\n",
    "            if w not in visited:\n",
    "                visited.add(w)\n",
    "                queue.append(w)\n",
    "    return visited"
   ]
  },
  {
   "cell_type": "code",
   "execution_count": 15,
   "id": "f863548f",
   "metadata": {},
   "outputs": [
    {
     "name": "stdout",
     "output_type": "stream",
     "text": [
      "{'A', 'D', 'E', 'C', 'B', 'F'}\n"
     ]
    }
   ],
   "source": [
    "graph = {\n",
    "    'A': ['B', 'C'],\n",
    "    'B': ['A', 'D', 'E'],\n",
    "    'C': ['A', 'F'],\n",
    "    'D': ['B'],\n",
    "    'E': ['B', 'F'],\n",
    "    'F': ['C', 'E']\n",
    "}\n",
    "print(bfs(graph, 'A'))"
   ]
  },
  {
   "cell_type": "markdown",
   "id": "c24f929b",
   "metadata": {},
   "source": [
    "广度优先搜索（BFS）：用于图的遍历，一层层地探索邻近节点。"
   ]
  },
  {
   "cell_type": "markdown",
   "id": "da0a7cb8",
   "metadata": {},
   "source": [
    "广度优先搜索（BFS）：用于图的遍历，一层层地探索邻近节点。\n",
    "\n",
    "Dijkstra算法：用于找到图中两个顶点之间的最短路径。\n",
    "\n",
    "贝尔曼-福特算法（Bellman-Ford）：也用于找到最短路径，能处理带有负权重边的图。\n",
    "\n",
    "弗洛伊德算法（Floyd-Warshall）：用于找到所有顶点对之间的最短路径。\n",
    "\n",
    "A*搜索算法：用于图和网格中的最短路径搜索，结合了BFS和Dijkstra的特点。\n",
    "\n",
    "克鲁斯克尔算法（Kruskal's）：用于寻找图的最小生成树。\n",
    "\n",
    "普里姆算法（Prim's）：另一种用于寻找最小生成树的算法。\n",
    "\n",
    "拓扑排序：对有向无环图（DAG）的顶点进行线性排序。\n",
    "\n",
    "强连通分量算法：如科萨拉朱算法（Kosaraju's algorithm）和塔拉扬算法（Tarjan's algorithm），用于识别有向图中的强连通分量。\n",
    "\n",
    "网络流算法：如Ford-Fulkerson算法和Edmonds-Karp算法，用于计算网络流量的最大流。\n",
    "\n",
    "图着色问题：如贪婪着色算法，用于给图的顶点着色，使得相邻的顶点颜色不同。"
   ]
  },
  {
   "cell_type": "markdown",
   "id": "0c5ec68f",
   "metadata": {},
   "source": [
    "### Update "
   ]
  },
  {
   "cell_type": "markdown",
   "id": "0590cd9f",
   "metadata": {},
   "source": [
    "### Delete"
   ]
  },
  {
   "cell_type": "code",
   "execution_count": null,
   "id": "7d632039",
   "metadata": {},
   "outputs": [],
   "source": []
  }
 ],
 "metadata": {
  "kernelspec": {
   "display_name": "Python 3 (ipykernel)",
   "language": "python",
   "name": "python3"
  },
  "language_info": {
   "codemirror_mode": {
    "name": "ipython",
    "version": 3
   },
   "file_extension": ".py",
   "mimetype": "text/x-python",
   "name": "python",
   "nbconvert_exporter": "python",
   "pygments_lexer": "ipython3",
   "version": "3.9.13"
  },
  "toc": {
   "base_numbering": 1,
   "nav_menu": {},
   "number_sections": true,
   "sideBar": true,
   "skip_h1_title": false,
   "title_cell": "Table of Contents",
   "title_sidebar": "Contents",
   "toc_cell": false,
   "toc_position": {
    "height": "calc(100% - 180px)",
    "left": "10px",
    "top": "150px",
    "width": "192.391px"
   },
   "toc_section_display": true,
   "toc_window_display": false
  }
 },
 "nbformat": 4,
 "nbformat_minor": 5
}
