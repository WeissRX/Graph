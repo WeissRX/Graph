{
 "cells": [
  {
   "cell_type": "markdown",
   "id": "eac412ea",
   "metadata": {},
   "source": [
    "# Mathematical Basis"
   ]
  },
  {
   "cell_type": "markdown",
   "id": "43ba80b0",
   "metadata": {},
   "source": [
    "## Basic Concept"
   ]
  },
  {
   "cell_type": "markdown",
   "id": "d857d7cc",
   "metadata": {},
   "source": [
    "### Special Graphs"
   ]
  },
  {
   "cell_type": "markdown",
   "id": "56d5d135",
   "metadata": {},
   "source": [
    "#### Connected Graph"
   ]
  },
  {
   "cell_type": "markdown",
   "id": "fb440e89",
   "metadata": {},
   "source": [
    "## Spectral Graph Theory"
   ]
  },
  {
   "cell_type": "markdown",
   "id": "4497d2d1",
   "metadata": {},
   "source": [
    "### Laplacian Matrix"
   ]
  },
  {
   "cell_type": "markdown",
   "id": "2e64ff9d",
   "metadata": {},
   "source": [
    "$$\\mathbf{L} = \\mathbf{D} - \\mathbf{G}$$"
   ]
  },
  {
   "cell_type": "markdown",
   "id": "92e9f85a",
   "metadata": {},
   "source": [
    "# Basic Algorithms"
   ]
  },
  {
   "cell_type": "markdown",
   "id": "6bf9d56e",
   "metadata": {},
   "source": [
    "## Traversal"
   ]
  },
  {
   "cell_type": "markdown",
   "id": "0df8f4be",
   "metadata": {},
   "source": [
    "### Depth-First Search (DFS) 深度优先搜索"
   ]
  },
  {
   "cell_type": "markdown",
   "id": "7e52817c",
   "metadata": {},
   "source": [
    "深度优先搜索（DFS, Depth-First Search）是一种用于遍历或搜索树或图的算法。在图论中，它用于系统地访问图中的所有顶点(Vertex)。DFS探索尽可能深的分支，直到达到末端，然后回溯以探索其他分支。"
   ]
  },
  {
   "cell_type": "markdown",
   "id": "6bb423da",
   "metadata": {},
   "source": [
    "(1) Pseudo-code"
   ]
  },
  {
   "cell_type": "code",
   "execution_count": null,
   "id": "994edb81",
   "metadata": {},
   "outputs": [],
   "source": [
    "DFS(v):\n",
    "    标记 v 为已访问\n",
    "    对于 v 的每个邻接点 w:\n",
    "        如果 w 未被访问:\n",
    "            递归地调用 DFS(w)\n",
    "        (否则访问下一邻接点)"
   ]
  },
  {
   "cell_type": "markdown",
   "id": "b9759a61",
   "metadata": {},
   "source": [
    "(2) Implementation with Python"
   ]
  },
  {
   "cell_type": "code",
   "execution_count": 12,
   "id": "10a960a1",
   "metadata": {},
   "outputs": [],
   "source": [
    "def dfs(graph, v, visited=None, path=None):       # v表示开始的节点，visited用于存储已搜索的节点\n",
    "    if visited is None:                           # 初始化\n",
    "        visited = set()\n",
    "    if path is None:\n",
    "        path = []\n",
    "    \n",
    "    visited.add(v)                                # 将当前节点标记为已访问 (set之后必须加.add())\n",
    "    path.append(v)                                # 记录访问顺序 (list之后必须加.append())\n",
    "    for w in graph[v]:\n",
    "        if w not in visited:\n",
    "            dfs(graph, w, visited, path)\n",
    "    return path"
   ]
  },
  {
   "cell_type": "code",
   "execution_count": 13,
   "id": "b0ce368f",
   "metadata": {},
   "outputs": [
    {
     "name": "stdout",
     "output_type": "stream",
     "text": [
      "['A', 'B', 'C', 'D']\n"
     ]
    }
   ],
   "source": [
    "graph = {\n",
    "    'A': ['B', 'C'],\n",
    "    'B': ['A', 'C', 'D'],\n",
    "    'C': ['A', 'D'],\n",
    "    'D': ['C']\n",
    "}\n",
    "visited = dfs(graph, 'A')\n",
    "print(visited)"
   ]
  },
  {
   "cell_type": "markdown",
   "id": "a1109e7d",
   "metadata": {},
   "source": [
    "找出有向无环图（DAG）中从节点 0 到最后一个节点的所有路径。"
   ]
  },
  {
   "cell_type": "code",
   "execution_count": null,
   "id": "b568bd5a",
   "metadata": {},
   "outputs": [],
   "source": [
    "def allPathsSourceTarget(graph: List[List[int]]) -> List[List[int]]:\n",
    "    def dfs(v, visited, path, paths): \n",
    "        if v == len(graph) - 1:  # 检查是否到达目标节点\n",
    "            paths.append(path)\n",
    "            return\n",
    "\n",
    "        visited.add(v)\n",
    "        for w in graph[v]:\n",
    "            if w not in visited:\n",
    "                # 创建访问状态和路径的副本\n",
    "                dfs(w, visited.copy(), path + [w], paths)\n",
    "\n",
    "    paths = []\n",
    "    dfs(0, set(), [0], paths)\n",
    "    return paths"
   ]
  },
  {
   "cell_type": "markdown",
   "id": "c8104630",
   "metadata": {},
   "source": [
    "### Breadth-First Search (BFS) 广度优先搜索"
   ]
  },
  {
   "cell_type": "markdown",
   "id": "04e068dc",
   "metadata": {},
   "source": [
    "(1) Pseudo-code"
   ]
  },
  {
   "cell_type": "code",
   "execution_count": null,
   "id": "8b140f37",
   "metadata": {},
   "outputs": [],
   "source": [
    "BFS(graph, startVertex):\n",
    "    创建一个队列 Q\n",
    "    将 startVertex 加入到 Q\n",
    "    标记 startVertex 为已访问\n",
    "\n",
    "    while Q 不为空:\n",
    "        v = Q 中取出一个顶点\n",
    "        访问 v\n",
    "\n",
    "        for v 的每个邻接点 w:\n",
    "            如果 w 未被访问:\n",
    "                标记 w 为已访问\n",
    "                将 w 加入到 Q"
   ]
  },
  {
   "cell_type": "markdown",
   "id": "c5f9c826",
   "metadata": {},
   "source": [
    "(2) Implementation With Python"
   ]
  },
  {
   "cell_type": "code",
   "execution_count": 14,
   "id": "09eabde9",
   "metadata": {},
   "outputs": [],
   "source": [
    "from collections import deque  # 双端队列，支持从两端以近似O(1)的时间复杂度添加或移除元素。deque在BFS中用作队列来存储待访问的顶点。\n",
    "\n",
    "def bfs(graph, v):\n",
    "    visited = set()\n",
    "    queue = deque([v])                    # 创建一个deque队列，并将起始顶点v作为第1个元素加入队列。\n",
    "\n",
    "    while queue:                          # 该循环会一直执行，直到队列变为空，表示只要还有顶点等待被访问，就继续执行循环体。\n",
    "        v = queue.popleft()               # 从队列中弹出一个顶点，符合先进先出（FIFO）\n",
    "        visited.add(v)\n",
    "        for w in graph[v]:\n",
    "            if w not in visited:\n",
    "                visited.add(w)\n",
    "                queue.append(w)\n",
    "    return visited"
   ]
  },
  {
   "cell_type": "code",
   "execution_count": 15,
   "id": "f863548f",
   "metadata": {},
   "outputs": [
    {
     "name": "stdout",
     "output_type": "stream",
     "text": [
      "{'A', 'D', 'E', 'C', 'B', 'F'}\n"
     ]
    }
   ],
   "source": [
    "graph = {\n",
    "    'A': ['B', 'C'],\n",
    "    'B': ['A', 'D', 'E'],\n",
    "    'C': ['A', 'F'],\n",
    "    'D': ['B'],\n",
    "    'E': ['B', 'F'],\n",
    "    'F': ['C', 'E']\n",
    "}\n",
    "print(bfs(graph, 'A'))"
   ]
  },
  {
   "cell_type": "markdown",
   "id": "3e1bdad2",
   "metadata": {},
   "source": [
    "## Shortest Path"
   ]
  },
  {
   "cell_type": "markdown",
   "id": "2aee6547",
   "metadata": {},
   "source": [
    "### Dijkstra Algorithm"
   ]
  },
  {
   "cell_type": "markdown",
   "id": "4ccc74e2",
   "metadata": {},
   "source": [
    "Dijkstra 算法用于在加权图中找到从单个源点到所有其他顶点的最短路径。"
   ]
  },
  {
   "cell_type": "markdown",
   "id": "e499afc0",
   "metadata": {},
   "source": [
    "(1) Method 1: Classic"
   ]
  },
  {
   "cell_type": "code",
   "execution_count": 4,
   "id": "6cfab62f",
   "metadata": {},
   "outputs": [],
   "source": [
    "def dijkstra_classic(graph, start):\n",
    "    distances = {vertex: float('infinity') for vertex in graph}    # 初始化距离字典，所有顶点的距离设为无穷大\n",
    "    distances[start] = 0                                           # 起始顶点到自身的距离设为0\n",
    "    visited = set()                                                # 用来记录已经处理过的顶点\n",
    "    \n",
    "    for _ in range(len(graph)):                                    # 处理所有顶点\n",
    "        current_vertex = min((vertex for vertex in distances if vertex not in visited),\n",
    "                             key=lambda vertex: distances[vertex]) # 在未处理的顶点中找到距离最小的顶点\n",
    "        visited.add(current_vertex)                                # 标记这个顶点为已处理\n",
    "        \n",
    "        for neighbor, weight in graph[current_vertex].items():     # 对当前顶点的每个邻居进行处理\n",
    "            if neighbor not in visited:\n",
    "                new_distance = distances[current_vertex] + weight\n",
    "                if new_distance < distances[neighbor]:             # 如果新计算的距离更短，则更新距离\n",
    "                    distances[neighbor] = new_distance\n",
    "\n",
    "    return distances"
   ]
  },
  {
   "cell_type": "markdown",
   "id": "3a3a20cc",
   "metadata": {},
   "source": [
    "(2) Method 2: heapq自动寻找最小堆"
   ]
  },
  {
   "cell_type": "code",
   "execution_count": 2,
   "id": "54c3ad95",
   "metadata": {},
   "outputs": [],
   "source": [
    "import heapq\n",
    "\n",
    "def dijkstra(graph, start):\n",
    "    distances = {vertex: float('infinity') for vertex in graph}\n",
    "    distances[start] = 0                                                 # 设置起始点的距离为0\n",
    "    priority_queue = [(0, start)]                                        # 创建优先队列，并将起始顶点加入队列\n",
    "\n",
    "    while priority_queue:                                                # 当优先队列不为空时循环\n",
    "        current_distance, current_vertex = heapq.heappop(priority_queue) # 从优先队列中取出当前距离最短的顶点\n",
    "\n",
    "        for neighbor, weight in graph[current_vertex].items():\n",
    "            distance = current_distance + weight\n",
    "\n",
    "            if distance < distances[neighbor]:\n",
    "                distances[neighbor] = distance\n",
    "                heapq.heappush(priority_queue, (distance, neighbor))\n",
    "\n",
    "    return distances"
   ]
  },
  {
   "cell_type": "code",
   "execution_count": 3,
   "id": "9166cf81",
   "metadata": {},
   "outputs": [
    {
     "name": "stdout",
     "output_type": "stream",
     "text": [
      "{'A': 0, 'B': 1, 'C': 3, 'D': 4}\n"
     ]
    }
   ],
   "source": [
    "graph = {\n",
    "    'A': {'B': 1, 'C': 4},\n",
    "    'B': {'A': 1, 'C': 2, 'D': 5},\n",
    "    'C': {'A': 4, 'B': 2, 'D': 1},\n",
    "    'D': {'B': 5, 'C': 1}\n",
    "}\n",
    "print(dijkstra(graph, 'A'))"
   ]
  },
  {
   "cell_type": "code",
   "execution_count": 8,
   "id": "aa38bcf3",
   "metadata": {},
   "outputs": [
    {
     "data": {
      "text/plain": [
       "{'A': 0, 'B': 1, 'C': 3, 'D': 4}"
      ]
     },
     "execution_count": 8,
     "metadata": {},
     "output_type": "execute_result"
    }
   ],
   "source": [
    "dijkstra_classic(graph, 'A')"
   ]
  },
  {
   "cell_type": "markdown",
   "id": "33e14d25",
   "metadata": {},
   "source": [
    "## Sorting"
   ]
  },
  {
   "cell_type": "markdown",
   "id": "0dcabd1c",
   "metadata": {},
   "source": [
    "### Topological Sorting"
   ]
  },
  {
   "cell_type": "markdown",
   "id": "da0a7cb8",
   "metadata": {},
   "source": [
    "拓扑排序：对有向无环图（DAG）的顶点进行线性排序。\n",
    "\n",
    "\n",
    "贝尔曼-福特算法（Bellman-Ford）：也用于找到最短路径，能处理带有负权重边的图。\n",
    "\n",
    "弗洛伊德算法（Floyd-Warshall）：用于找到所有顶点对之间的最短路径。\n",
    "\n",
    "A*搜索算法：用于图和网格中的最短路径搜索，结合了BFS和Dijkstra的特点。\n",
    "\n",
    "克鲁斯克尔算法（Kruskal's）：用于寻找图的最小生成树。\n",
    "\n",
    "普里姆算法（Prim's）：另一种用于寻找最小生成树的算法。\n",
    "\n",
    "强连通分量算法：如科萨拉朱算法（Kosaraju's algorithm）和塔拉扬算法（Tarjan's algorithm），用于识别有向图中的强连通分量。\n",
    "\n",
    "网络流算法：如Ford-Fulkerson算法和Edmonds-Karp算法，用于计算网络流量的最大流。\n",
    "\n",
    "图着色问题：如贪婪着色算法，用于给图的顶点着色，使得相邻的顶点颜色不同。"
   ]
  },
  {
   "cell_type": "markdown",
   "id": "e7ad38c0",
   "metadata": {},
   "source": [
    "## Comprehensive Applications"
   ]
  },
  {
   "cell_type": "markdown",
   "id": "0742426b",
   "metadata": {},
   "source": [
    "### 回路问题（寻找不在回路中的安全节点）"
   ]
  },
  {
   "cell_type": "markdown",
   "id": "edd44511",
   "metadata": {},
   "source": [
    "（1) Method 1: DFS"
   ]
  },
  {
   "cell_type": "code",
   "execution_count": 14,
   "id": "4e772113",
   "metadata": {},
   "outputs": [],
   "source": [
    "from typing import List\n",
    "def eventualSafeNodes(graph: List[List[int]]) -> List[int]:\n",
    "    def dfs(node):\n",
    "        '''0: Not visited; 1: Being visited; 2: Safe'''\n",
    "        if visited[node] != 0:                                # 如果节点已经被访问过，根据其状态直接返回\n",
    "            return visited[node] == 2\n",
    "        visited[node] = 1                                     # 标记当前节点为正在访问\n",
    "        \n",
    "        for next_node in graph[node]:\n",
    "            if visited[next_node] == 1 or not dfs(next_node): # 如果下一个节点正在访问或不安全，则当前节点不安全\n",
    "                return False\n",
    "            \n",
    "        visited[node] = 2\n",
    "        return True\n",
    "\n",
    "    safe_nodes = []\n",
    "    visited = [0] * len(graph)\n",
    "\n",
    "    for i in range(len(graph)):\n",
    "        if dfs(i):\n",
    "            safe_nodes.append(i)\n",
    "\n",
    "    return safe_nodes"
   ]
  },
  {
   "cell_type": "code",
   "execution_count": 15,
   "id": "247f922a",
   "metadata": {},
   "outputs": [
    {
     "data": {
      "text/plain": [
       "[2, 4, 5, 6]"
      ]
     },
     "execution_count": 15,
     "metadata": {},
     "output_type": "execute_result"
    }
   ],
   "source": [
    "safe_node_example = [[1, 2], [2, 3], [5], [0], [5], [], []]\n",
    "eventualSafeNodes(safe_node_example)"
   ]
  },
  {
   "cell_type": "markdown",
   "id": "a539d10e",
   "metadata": {},
   "source": [
    "# Graph and Machine Learning"
   ]
  },
  {
   "cell_type": "code",
   "execution_count": null,
   "id": "bfc20b60",
   "metadata": {},
   "outputs": [],
   "source": []
  }
 ],
 "metadata": {
  "kernelspec": {
   "display_name": "Python 3 (ipykernel)",
   "language": "python",
   "name": "python3"
  },
  "language_info": {
   "codemirror_mode": {
    "name": "ipython",
    "version": 3
   },
   "file_extension": ".py",
   "mimetype": "text/x-python",
   "name": "python",
   "nbconvert_exporter": "python",
   "pygments_lexer": "ipython3",
   "version": "3.9.13"
  },
  "toc": {
   "base_numbering": 1,
   "nav_menu": {},
   "number_sections": true,
   "sideBar": true,
   "skip_h1_title": false,
   "title_cell": "Table of Contents",
   "title_sidebar": "Contents",
   "toc_cell": false,
   "toc_position": {
    "height": "calc(100% - 180px)",
    "left": "10px",
    "top": "150px",
    "width": "192.391px"
   },
   "toc_section_display": true,
   "toc_window_display": true
  }
 },
 "nbformat": 4,
 "nbformat_minor": 5
}
